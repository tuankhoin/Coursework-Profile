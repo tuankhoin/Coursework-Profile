{
 "cells": [
  {
   "cell_type": "code",
   "execution_count": 2,
   "metadata": {},
   "outputs": [
    {
     "data": {
      "text/plain": [
       "'/Users/liamsaliba/projects/comp90054-yinsh-project-group-42'"
      ]
     },
     "execution_count": 2,
     "metadata": {},
     "output_type": "execute_result"
    }
   ],
   "source": [
    "import os\n",
    "os.chdir('../..')\n",
    "os.getcwd()"
   ]
  },
  {
   "cell_type": "code",
   "execution_count": 10,
   "metadata": {},
   "outputs": [],
   "source": [
    "import numpy as np"
   ]
  },
  {
   "cell_type": "code",
   "execution_count": 4,
   "metadata": {},
   "outputs": [],
   "source": [
    "from Yinsh.yinsh_model import YinshState as State"
   ]
  },
  {
   "cell_type": "code",
   "execution_count": 6,
   "metadata": {},
   "outputs": [],
   "source": [
    "state = State(2)"
   ]
  },
  {
   "cell_type": "code",
   "execution_count": 18,
   "metadata": {},
   "outputs": [
    {
     "data": {
      "text/plain": [
       "85"
      ]
     },
     "execution_count": 18,
     "metadata": {},
     "output_type": "execute_result"
    }
   ],
   "source": [
    "n_legal = np.sum(state.board == 0)\n",
    "n_legal"
   ]
  },
  {
   "cell_type": "code",
   "execution_count": 34,
   "metadata": {},
   "outputs": [],
   "source": [
    "board = np.array([\n",
    "       [5, 5, 5, 5, 5, 5, 0, 0, 0, 0, 5],\n",
    "       [5, 5, 5, 5, 2, 0, 0, 2, 0, 0, 0],\n",
    "       [5, 5, 5, 0, 0, 2, 2, 2, 0, 0, 0],\n",
    "       [5, 5, 0, 0, 0, 2, 2, 4, 0, 0, 0],\n",
    "       [5, 0, 0, 4, 4, 2, 4, 4, 0, 0, 0],\n",
    "       [5, 0, 0, 0, 2, 2, 0, 0, 0, 0, 5],\n",
    "       [0, 0, 0, 0, 0, 2, 0, 0, 0, 0, 5],\n",
    "       [0, 0, 0, 0, 0, 0, 0, 0, 0, 5, 5],\n",
    "       [0, 0, 0, 0, 0, 0, 0, 0, 5, 5, 5],\n",
    "       [0, 0, 0, 0, 0, 0, 0, 5, 5, 5, 5],\n",
    "       [5, 0, 0, 0, 0, 5, 5, 5, 5, 5, 5]]\n",
    ")"
   ]
  },
  {
   "cell_type": "code",
   "execution_count": 81,
   "metadata": {},
   "outputs": [
    {
     "data": {
      "text/plain": [
       "[(0, 7), (1, 6), (2, 5), (3, 4), (4, 3), (5, 2), (6, 1), (7, 0)]"
      ]
     },
     "execution_count": 81,
     "metadata": {},
     "output_type": "execute_result"
    }
   ],
   "source": [
    "x, y = 2,5\n",
    "s = x + y\n",
    "pos = [(x+i, y-i) for i in range(-10, 11) \n",
    "                    if (0 <= x+i <= 10 and 0 <= y-i <= 10) ]\n",
    "pos"
   ]
  },
  {
   "cell_type": "code",
   "execution_count": 111,
   "metadata": {},
   "outputs": [
    {
     "data": {
      "text/plain": [
       "array([[5, 0, 0, 4, 4, 2, 0, 0, 0, 0, 5]])"
      ]
     },
     "execution_count": 111,
     "metadata": {},
     "output_type": "execute_result"
    }
   ],
   "source": [
    "np.fliplr(board)[:, :, None].diagonal()"
   ]
  },
  {
   "cell_type": "code",
   "execution_count": 113,
   "metadata": {},
   "outputs": [
    {
     "data": {
      "text/plain": [
       "[array([5, 0, 0, 0, 0, 5]),\n",
       " array([0, 0, 0, 0, 0, 0, 0]),\n",
       " array([0, 0, 0, 0, 0, 0, 0, 0]),\n",
       " array([0, 0, 0, 0, 0, 0, 0, 0, 0]),\n",
       " array([0, 0, 0, 4, 0, 2, 0, 0, 0, 0]),\n",
       " array([5, 0, 0, 4, 4, 2, 0, 0, 0, 0, 5]),\n",
       " array([0, 0, 2, 2, 2, 2, 0, 0, 0, 0]),\n",
       " array([0, 2, 2, 2, 4, 0, 0, 0, 0]),\n",
       " array([0, 0, 2, 0, 4, 0, 0, 0]),\n",
       " array([0, 0, 0, 0, 0, 0, 0])]"
      ]
     },
     "execution_count": 113,
     "metadata": {},
     "output_type": "execute_result"
    }
   ],
   "source": [
    "[np.fliplr(board).diagonal(s) for s in range(-5, 5)]"
   ]
  },
  {
   "cell_type": "code",
   "execution_count": 102,
   "metadata": {},
   "outputs": [
    {
     "data": {
      "text/plain": [
       "array([5, 2, 0, 0, 0, 5])"
      ]
     },
     "execution_count": 102,
     "metadata": {},
     "output_type": "execute_result"
    }
   ],
   "source": [
    "np.diag(board[:, ::-1], 10-5)"
   ]
  },
  {
   "cell_type": "code",
   "execution_count": 83,
   "metadata": {},
   "outputs": [
    {
     "data": {
      "text/plain": [
       "array([ True,  True,  True,  True,  True,  True,  True,  True])"
      ]
     },
     "execution_count": 83,
     "metadata": {},
     "output_type": "execute_result"
    }
   ],
   "source": [
    "board[tuple(zip(*pos))] == np.diag(board[:, ::-1], 10-(x+y))"
   ]
  },
  {
   "cell_type": "code",
   "execution_count": 85,
   "metadata": {},
   "outputs": [],
   "source": [
    "def getline(line, pos):\n",
    "    x, y = pos\n",
    "    if line == 'h':\n",
    "        return board[x, :]\n",
    "    elif line == 'v':\n",
    "        return board[:, y]\n",
    "    else:\n",
    "        return np.diag(board[:, ::-1], 10-(x+y))"
   ]
  },
  {
   "cell_type": "code",
   "execution_count": 95,
   "metadata": {},
   "outputs": [
    {
     "data": {
      "text/plain": [
       "array([5, 0, 2, 2, 2, 2, 2, 0, 0, 0, 5])"
      ]
     },
     "execution_count": 95,
     "metadata": {},
     "output_type": "execute_result"
    }
   ],
   "source": [
    "getline('v', (2,5))"
   ]
  },
  {
   "cell_type": "code",
   "execution_count": 47,
   "metadata": {},
   "outputs": [
    {
     "data": {
      "text/plain": [
       "array([[2, 2, 0, 0, 0, 5],\n",
       "       [2, 4, 4, 0, 0, 5],\n",
       "       [2, 0, 0, 0, 5, 5],\n",
       "       [2, 0, 0, 5, 5, 5],\n",
       "       [0, 2, 5, 5, 5, 5],\n",
       "       [5, 5, 5, 5, 5, 5]])"
      ]
     },
     "execution_count": 47,
     "metadata": {},
     "output_type": "execute_result"
    }
   ],
   "source": [
    "# return a 1D array of all elements of board on the diagonal of (x, y)\n",
    "board[x::-1, y::-1]"
   ]
  },
  {
   "cell_type": "code",
   "execution_count": null,
   "metadata": {},
   "outputs": [],
   "source": []
  },
  {
   "cell_type": "code",
   "execution_count": 44,
   "metadata": {},
   "outputs": [
    {
     "data": {
      "text/plain": [
       "(array([1, 1, 2, 2, 2, 3, 3, 4, 5, 5, 6]),\n",
       " array([4, 7, 5, 6, 7, 5, 6, 5, 4, 5, 5]))"
      ]
     },
     "execution_count": 44,
     "metadata": {},
     "output_type": "execute_result"
    }
   ],
   "source": [
    "(board == 2).nonzero()"
   ]
  },
  {
   "cell_type": "code",
   "execution_count": 35,
   "metadata": {},
   "outputs": [
    {
     "data": {
      "text/plain": [
       "array([5, 5, 5, 5, 5, 5, 0, 0, 0, 0, 5])"
      ]
     },
     "execution_count": 35,
     "metadata": {},
     "output_type": "execute_result"
    }
   ],
   "source": [
    "board[0]"
   ]
  },
  {
   "cell_type": "code",
   "execution_count": 29,
   "metadata": {},
   "outputs": [
    {
     "data": {
      "text/plain": [
       "4336808689942017736029811203479766845703125"
      ]
     },
     "execution_count": 29,
     "metadata": {},
     "output_type": "execute_result"
    }
   ],
   "source": [
    "5 ** 61"
   ]
  },
  {
   "cell_type": "code",
   "execution_count": 21,
   "metadata": {},
   "outputs": [
    {
     "name": "stderr",
     "output_type": "stream",
     "text": [
      "/var/folders/4h/h790lrsn7cb2n7k080lvzqtc0000gn/T/ipykernel_13036/2091988017.py:3: RuntimeWarning: overflow encountered in long_scalars\n",
      "  possible_initial_states *= n_legal - i\n"
     ]
    },
    {
     "data": {
      "text/plain": [
       "-7091638567248034816"
      ]
     },
     "execution_count": 21,
     "metadata": {},
     "output_type": "execute_result"
    }
   ],
   "source": [
    "possible_initial_states = 1\n",
    "for i in range(10):\n",
    "    possible_initial_states *= n_legal - i\n",
    "possible_initial_states"
   ]
  },
  {
   "cell_type": "code",
   "execution_count": null,
   "metadata": {},
   "outputs": [],
   "source": []
  },
  {
   "cell_type": "code",
   "execution_count": null,
   "metadata": {},
   "outputs": [],
   "source": [
    "def checkLineNP(sequences, )"
   ]
  }
 ],
 "metadata": {
  "interpreter": {
   "hash": "d9d2be6f9b18f8ee4200520afe1b4f30f24191d1a4a41de1e924d1fe07490726"
  },
  "kernelspec": {
   "display_name": "Python 3.10.4 ('yinsh')",
   "language": "python",
   "name": "python3"
  },
  "language_info": {
   "codemirror_mode": {
    "name": "ipython",
    "version": 3
   },
   "file_extension": ".py",
   "mimetype": "text/x-python",
   "name": "python",
   "nbconvert_exporter": "python",
   "pygments_lexer": "ipython3",
   "version": "3.10.4"
  },
  "orig_nbformat": 4
 },
 "nbformat": 4,
 "nbformat_minor": 2
}
